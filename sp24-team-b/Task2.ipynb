{
 "cells": [
  {
   "cell_type": "markdown",
   "id": "39ce1880-f4b2-4755-bbfa-fbd37937c5e3",
   "metadata": {},
   "source": [
    "**Jiayang's Part**\n",
    "\n",
    "**Question:**\n",
    "```\n",
    "Who are the top funders of racial justice programs in Massachusetts? \n",
    "```\n",
    "\n",
    "```"
   ]
  },
  {
   "cell_type": "code",
   "execution_count": null,
   "id": "89fbddb4-51bd-40ed-bc15-295eb5f981ab",
   "metadata": {},
   "outputs": [],
   "source": [
    "import pandas as pd\n",
    "import matplotlib.pyplot as plt\n",
    "  \n",
    "Grants = pd.read_csv('../../Data/Grants.csv', low_memory=False)"
   ]
  }
 ],
 "metadata": {
  "kernelspec": {
   "display_name": "Python 3 (ipykernel)",
   "language": "python",
   "name": "python3"
  },
  "language_info": {
   "codemirror_mode": {
    "name": "ipython",
    "version": 3
   },
   "file_extension": ".py",
   "mimetype": "text/x-python",
   "name": "python",
   "nbconvert_exporter": "python",
   "pygments_lexer": "ipython3",
   "version": "3.9.5"
  }
 },
 "nbformat": 4,
 "nbformat_minor": 5
}
